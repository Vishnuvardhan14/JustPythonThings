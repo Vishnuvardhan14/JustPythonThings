{
 "cells": [
  {
   "cell_type": "code",
   "execution_count": 4,
   "id": "208f40dd",
   "metadata": {},
   "outputs": [
    {
     "name": "stdout",
     "output_type": "stream",
     "text": [
      "HelloWorld\n"
     ]
    }
   ],
   "source": [
    "print(\"HelloWorld\")"
   ]
  },
  {
   "cell_type": "code",
   "execution_count": 5,
   "id": "438cbcf2-209a-4d8c-91da-e6648ce559c0",
   "metadata": {},
   "outputs": [
    {
     "name": "stdout",
     "output_type": "stream",
     "text": [
      "Welcome to course of python\n"
     ]
    }
   ],
   "source": [
    "print('Welcome to course of python')"
   ]
  },
  {
   "cell_type": "raw",
   "id": "27aab18c-20b0-4117-a07c-efcabcb96b1c",
   "metadata": {},
   "source": [
    "Arthematic Operations"
   ]
  }
 ],
 "metadata": {
  "kernelspec": {
   "display_name": "Python 3 (ipykernel)",
   "language": "python",
   "name": "python3"
  },
  "language_info": {
   "codemirror_mode": {
    "name": "ipython",
    "version": 3
   },
   "file_extension": ".py",
   "mimetype": "text/x-python",
   "name": "python",
   "nbconvert_exporter": "python",
   "pygments_lexer": "ipython3",
   "version": "3.9.12"
  }
 },
 "nbformat": 4,
 "nbformat_minor": 5
}
